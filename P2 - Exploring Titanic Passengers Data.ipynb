{
 "cells": [
  {
   "cell_type": "markdown",
   "metadata": {},
   "source": [
    "<span style=\"color: blue; font-family: 'Palatino Linotype'; font-size: 30px;\">Exploring the Titanic Incident</span>\n",
    "\n",
    "By: Raza Anees"
   ]
  },
  {
   "cell_type": "markdown",
   "metadata": {},
   "source": [
    "<span style=\"font-family:'Palatino Linotype'; font-size:25px; text-decoration:underline;\">Introduction</span>\n",
    "\n",
    "<p style=\"font-family:arial;\">The RMS Titanic sank during its maiden journey on April 15, 1912 after colliding with an iceberg. The tragedy resulted in the death of 1502 out of 2224 passengers and crew onboard and made international headlines.\n",
    "</p>\n",
    "\n",
    "<p style=\"font-family:arial;\">In this project, I will sift through data of 891 out of the 2224 passengers and crew members to discover a variety of survival factors, if any exist. \n",
    "</p>\n",
    "***"
   ]
  },
  {
   "cell_type": "markdown",
   "metadata": {},
   "source": [
    "<span style=\"font-family:'Palatino Linotype'; font-size:25px; text-decoration:underline;\">Questions</span>\n",
    "\n",
    "<p style=\"font-family:arial;\">\n",
    "    <ol>\n",
    "        <li>Which of the following factors had the most impact on survival:</li>\n",
    "            <ul>\n",
    "                <li>Passenger Age</li>\n",
    "                <li>Passenger Sex</li>\n",
    "                <li>Passenger Class</li>\n",
    "                <li>Whether or not passengers were travelling with family (parents, spouses, siblings, and children).</li>\n",
    "            </ul>\n",
    "            <br>\n",
    "        <li>Which port had the wealthiest residents?</li>\n",
    "    </ol>\n",
    "</p>\n",
    "***"
   ]
  },
  {
   "cell_type": "markdown",
   "metadata": {},
   "source": [
    "<span style=\"font-family:'Palatino Linotype'; font-size:25px; text-decoration:underline;\">Data Wrangling</span>"
   ]
  },
  {
   "cell_type": "code",
   "execution_count": 1,
   "metadata": {
    "collapsed": false
   },
   "outputs": [
    {
     "data": {
      "text/html": [
       "<div>\n",
       "<table border=\"1\" class=\"dataframe\">\n",
       "  <thead>\n",
       "    <tr style=\"text-align: right;\">\n",
       "      <th></th>\n",
       "      <th>PassengerId</th>\n",
       "      <th>Survived</th>\n",
       "      <th>Pclass</th>\n",
       "      <th>Name</th>\n",
       "      <th>Sex</th>\n",
       "      <th>Age</th>\n",
       "      <th>SibSp</th>\n",
       "      <th>Parch</th>\n",
       "      <th>Ticket</th>\n",
       "      <th>Fare</th>\n",
       "      <th>Cabin</th>\n",
       "      <th>Embarked</th>\n",
       "    </tr>\n",
       "  </thead>\n",
       "  <tbody>\n",
       "    <tr>\n",
       "      <th>0</th>\n",
       "      <td>1</td>\n",
       "      <td>0</td>\n",
       "      <td>3</td>\n",
       "      <td>Braund, Mr. Owen Harris</td>\n",
       "      <td>male</td>\n",
       "      <td>22.0</td>\n",
       "      <td>1</td>\n",
       "      <td>0</td>\n",
       "      <td>A/5 21171</td>\n",
       "      <td>7.2500</td>\n",
       "      <td>NaN</td>\n",
       "      <td>S</td>\n",
       "    </tr>\n",
       "    <tr>\n",
       "      <th>1</th>\n",
       "      <td>2</td>\n",
       "      <td>1</td>\n",
       "      <td>1</td>\n",
       "      <td>Cumings, Mrs. John Bradley (Florence Briggs Th...</td>\n",
       "      <td>female</td>\n",
       "      <td>38.0</td>\n",
       "      <td>1</td>\n",
       "      <td>0</td>\n",
       "      <td>PC 17599</td>\n",
       "      <td>71.2833</td>\n",
       "      <td>C85</td>\n",
       "      <td>C</td>\n",
       "    </tr>\n",
       "    <tr>\n",
       "      <th>2</th>\n",
       "      <td>3</td>\n",
       "      <td>1</td>\n",
       "      <td>3</td>\n",
       "      <td>Heikkinen, Miss. Laina</td>\n",
       "      <td>female</td>\n",
       "      <td>26.0</td>\n",
       "      <td>0</td>\n",
       "      <td>0</td>\n",
       "      <td>STON/O2. 3101282</td>\n",
       "      <td>7.9250</td>\n",
       "      <td>NaN</td>\n",
       "      <td>S</td>\n",
       "    </tr>\n",
       "  </tbody>\n",
       "</table>\n",
       "</div>"
      ],
      "text/plain": [
       "   PassengerId  Survived  Pclass  \\\n",
       "0            1         0       3   \n",
       "1            2         1       1   \n",
       "2            3         1       3   \n",
       "\n",
       "                                                Name     Sex   Age  SibSp  \\\n",
       "0                            Braund, Mr. Owen Harris    male  22.0      1   \n",
       "1  Cumings, Mrs. John Bradley (Florence Briggs Th...  female  38.0      1   \n",
       "2                             Heikkinen, Miss. Laina  female  26.0      0   \n",
       "\n",
       "   Parch            Ticket     Fare Cabin Embarked  \n",
       "0      0         A/5 21171   7.2500   NaN        S  \n",
       "1      0          PC 17599  71.2833   C85        C  \n",
       "2      0  STON/O2. 3101282   7.9250   NaN        S  "
      ]
     },
     "execution_count": 1,
     "metadata": {},
     "output_type": "execute_result"
    }
   ],
   "source": [
    "#Import the necessary libraries that will be used for this analysis\n",
    "import numpy as np #for creating arrays and data containers for further operations\n",
    "import pandas as pd #for importing the dataset and manipulations of data\n",
    "import matplotlib.pyplot as plt #for creating various visuals\n",
    "import seaborn as sns #for decorating plots and creating advanced visuals such as heatmaps\n",
    "\n",
    "#Import the data set\n",
    "titanic = pd.read_csv(\"~/Documents/Programming/Data_Analyst/Project_2/P2/titanic_data.csv\",header=0)\n",
    "\n",
    "#Test if data import successful\n",
    "titanic.head(3) #Print top 3 lines"
   ]
  },
  {
   "cell_type": "code",
   "execution_count": 2,
   "metadata": {
    "collapsed": false
   },
   "outputs": [
    {
     "name": "stdout",
     "output_type": "stream",
     "text": [
      "<class 'pandas.core.frame.DataFrame'>\n",
      "RangeIndex: 891 entries, 0 to 890\n",
      "Data columns (total 12 columns):\n",
      "PassengerId    891 non-null int64\n",
      "Survived       891 non-null int64\n",
      "Pclass         891 non-null int64\n",
      "Name           891 non-null object\n",
      "Sex            891 non-null object\n",
      "Age            714 non-null float64\n",
      "SibSp          891 non-null int64\n",
      "Parch          891 non-null int64\n",
      "Ticket         891 non-null object\n",
      "Fare           891 non-null float64\n",
      "Cabin          204 non-null object\n",
      "Embarked       889 non-null object\n",
      "dtypes: float64(2), int64(5), object(5)\n",
      "memory usage: 83.6+ KB\n"
     ]
    }
   ],
   "source": [
    "#Check the type of data that was imported\n",
    "titanic.info()"
   ]
  },
  {
   "cell_type": "markdown",
   "metadata": {},
   "source": [
    "\n",
    "<p style=\"font-family:arial;\">\n",
    "    It is clear from the information above that the \"Age\", \"Cabin\", and \"Embarked\" categories are missing some values. Care must be taken when evaulating statistics involving any of those categories. The \"Age\" and \"Embarked\" categories will be used to answer the questions posed above so they must be cleaned.\n",
    "</p>"
   ]
  },
  {
   "cell_type": "markdown",
   "metadata": {},
   "source": [
    "<p style=\"font-family:arial;\">Let's find all of the missing values in the \"Age\" category.\n",
    "</p>"
   ]
  },
  {
   "cell_type": "code",
   "execution_count": 3,
   "metadata": {
    "collapsed": false
   },
   "outputs": [
    {
     "name": "stdout",
     "output_type": "stream",
     "text": [
      "<class 'pandas.core.frame.DataFrame'>\n",
      "Int64Index: 177 entries, 5 to 888\n",
      "Data columns (total 12 columns):\n",
      "PassengerId    177 non-null int64\n",
      "Survived       177 non-null int64\n",
      "Pclass         177 non-null int64\n",
      "Name           177 non-null object\n",
      "Sex            177 non-null object\n",
      "Age            0 non-null float64\n",
      "SibSp          177 non-null int64\n",
      "Parch          177 non-null int64\n",
      "Ticket         177 non-null object\n",
      "Fare           177 non-null float64\n",
      "Cabin          19 non-null object\n",
      "Embarked       177 non-null object\n",
      "dtypes: float64(2), int64(5), object(5)\n",
      "memory usage: 18.0+ KB\n",
      "None\n"
     ]
    }
   ],
   "source": [
    "#Show all of the entries that are missing the age\n",
    "print titanic[titanic['Age'].isnull()].info()"
   ]
  },
  {
   "cell_type": "markdown",
   "metadata": {
    "collapsed": true
   },
   "source": [
    "<p style=\"font-family:arial;\">The above information confirms that there are 177 records with missing passenger age values. Since the original sample size is about 1/3 of the population (891 out of 2224), the records with missing age values will not be excluded because that would further shrink the sample size. The missing age records will be filled in with median values of the dataset instead. Median values were chosen because outliers have a much larger effect on the mean than they do on the median.</p>\n",
    "\n",
    "<p> Median values of certain categories will be found instead of a blanket median for the entire dataset to minimize noise in the dataset. For example, the missing age record of a class 2, female passenger travelling with family will be filled with the median age of all class 2, female passengers travelling with family.</p>\n",
    "\n",
    "<p>To do this, let's examine whether a traveller was alone or with family by creating a new column in the dataframe.</p>"
   ]
  },
  {
   "cell_type": "code",
   "execution_count": 4,
   "metadata": {
    "collapsed": false
   },
   "outputs": [
    {
     "data": {
      "text/html": [
       "<div>\n",
       "<table border=\"1\" class=\"dataframe\">\n",
       "  <thead>\n",
       "    <tr style=\"text-align: right;\">\n",
       "      <th></th>\n",
       "      <th>Name</th>\n",
       "      <th>SibSp</th>\n",
       "      <th>Parch</th>\n",
       "      <th>With_Family</th>\n",
       "    </tr>\n",
       "  </thead>\n",
       "  <tbody>\n",
       "    <tr>\n",
       "      <th>0</th>\n",
       "      <td>Braund, Mr. Owen Harris</td>\n",
       "      <td>1</td>\n",
       "      <td>0</td>\n",
       "      <td>1</td>\n",
       "    </tr>\n",
       "    <tr>\n",
       "      <th>1</th>\n",
       "      <td>Cumings, Mrs. John Bradley (Florence Briggs Th...</td>\n",
       "      <td>1</td>\n",
       "      <td>0</td>\n",
       "      <td>1</td>\n",
       "    </tr>\n",
       "    <tr>\n",
       "      <th>2</th>\n",
       "      <td>Heikkinen, Miss. Laina</td>\n",
       "      <td>0</td>\n",
       "      <td>0</td>\n",
       "      <td>0</td>\n",
       "    </tr>\n",
       "    <tr>\n",
       "      <th>3</th>\n",
       "      <td>Futrelle, Mrs. Jacques Heath (Lily May Peel)</td>\n",
       "      <td>1</td>\n",
       "      <td>0</td>\n",
       "      <td>1</td>\n",
       "    </tr>\n",
       "  </tbody>\n",
       "</table>\n",
       "</div>"
      ],
      "text/plain": [
       "                                                Name  SibSp  Parch  \\\n",
       "0                            Braund, Mr. Owen Harris      1      0   \n",
       "1  Cumings, Mrs. John Bradley (Florence Briggs Th...      1      0   \n",
       "2                             Heikkinen, Miss. Laina      0      0   \n",
       "3       Futrelle, Mrs. Jacques Heath (Lily May Peel)      1      0   \n",
       "\n",
       "   With_Family  \n",
       "0            1  \n",
       "1            1  \n",
       "2            0  \n",
       "3            1  "
      ]
     },
     "execution_count": 4,
     "metadata": {},
     "output_type": "execute_result"
    }
   ],
   "source": [
    "#A function to determine whether someone was travelling with their family. 1 indicates true and 0 indicates false.\n",
    "def with_fam(dataframe):\n",
    "    if dataframe['Parch']>0 or dataframe['SibSp'] > 0:\n",
    "        return 1\n",
    "    else:\n",
    "        return 0\n",
    "\n",
    "#Apply the function to the database to add a column determining family travel\n",
    "titanic['With_Family'] = titanic.apply(with_fam,axis=1).astype(int)\n",
    "#Ensure results are as expected\n",
    "titanic[['Name','SibSp','Parch','With_Family']].head(4)"
   ]
  },
  {
   "cell_type": "markdown",
   "metadata": {},
   "source": [
    "<p>Let's also assign a numeral value for passenger sex to help calculate median values in the next step.</p>"
   ]
  },
  {
   "cell_type": "code",
   "execution_count": 5,
   "metadata": {
    "collapsed": false
   },
   "outputs": [
    {
     "data": {
      "text/html": [
       "<div>\n",
       "<table border=\"1\" class=\"dataframe\">\n",
       "  <thead>\n",
       "    <tr style=\"text-align: right;\">\n",
       "      <th></th>\n",
       "      <th>Name</th>\n",
       "      <th>Sex</th>\n",
       "      <th>Gender</th>\n",
       "    </tr>\n",
       "  </thead>\n",
       "  <tbody>\n",
       "    <tr>\n",
       "      <th>0</th>\n",
       "      <td>Braund, Mr. Owen Harris</td>\n",
       "      <td>male</td>\n",
       "      <td>0</td>\n",
       "    </tr>\n",
       "    <tr>\n",
       "      <th>1</th>\n",
       "      <td>Cumings, Mrs. John Bradley (Florence Briggs Th...</td>\n",
       "      <td>female</td>\n",
       "      <td>1</td>\n",
       "    </tr>\n",
       "    <tr>\n",
       "      <th>2</th>\n",
       "      <td>Heikkinen, Miss. Laina</td>\n",
       "      <td>female</td>\n",
       "      <td>1</td>\n",
       "    </tr>\n",
       "    <tr>\n",
       "      <th>3</th>\n",
       "      <td>Futrelle, Mrs. Jacques Heath (Lily May Peel)</td>\n",
       "      <td>female</td>\n",
       "      <td>1</td>\n",
       "    </tr>\n",
       "  </tbody>\n",
       "</table>\n",
       "</div>"
      ],
      "text/plain": [
       "                                                Name     Sex  Gender\n",
       "0                            Braund, Mr. Owen Harris    male       0\n",
       "1  Cumings, Mrs. John Bradley (Florence Briggs Th...  female       1\n",
       "2                             Heikkinen, Miss. Laina  female       1\n",
       "3       Futrelle, Mrs. Jacques Heath (Lily May Peel)  female       1"
      ]
     },
     "execution_count": 5,
     "metadata": {},
     "output_type": "execute_result"
    }
   ],
   "source": [
    "titanic['Gender'] = titanic['Sex'].map({'male':0, 'female':1}).astype(int)\n",
    "titanic[['Name','Sex','Gender']].head(4)"
   ]
  },
  {
   "cell_type": "markdown",
   "metadata": {},
   "source": [
    "<p>Now that it has been determined whether each person was travelling with family or not and a numerical gender value has been assigned, it is time to calculate the median ages of the following sub-groups:\n",
    "<ul>\n",
    "    <li>male, class 1, travelling with family</li>\n",
    "    <li>male, class 2, travelling with famiy</li>\n",
    "    <li>male, class 3, travelling with famiy</li>\n",
    "    <li>male, class 1, travelling without famiy</li>\n",
    "    <li>male, class 2, travelling without famiy</li>\n",
    "    <li>male, class 3, travelling without famiy</li>\n",
    "    <li>female, class 1, travelling with famiy</li>\n",
    "    <li>female, class 2, travelling with famiy</li>\n",
    "    <li>female, class 3, travelling with famiy</li>\n",
    "    <li>female, class 1, travelling without famiy</li>\n",
    "    <li>female, class 2, travelling without famiy</li>\n",
    "    <li>female, class 3, travelling without famiy</li>\n",
    "</ul>\n",
    "<br>\n",
    "Class 1 = upper class, class 2 = middle class, class 3 = lower class\n",
    "</p>"
   ]
  },
  {
   "cell_type": "code",
   "execution_count": 6,
   "metadata": {
    "collapsed": false
   },
   "outputs": [
    {
     "name": "stdout",
     "output_type": "stream",
     "text": [
      "[[ 0.  0.  0.  0.  0.  0.]\n",
      " [ 0.  0.  0.  0.  0.  0.]]\n",
      "\n"
     ]
    },
    {
     "data": {
      "text/plain": [
       "array([[ 45.  ,  30.  ,  27.  ,  37.  ,  29.  ,  17.5 ],\n",
       "       [ 32.5 ,  32.25,  22.  ,  35.  ,  25.5 ,  19.5 ]])"
      ]
     },
     "execution_count": 6,
     "metadata": {},
     "output_type": "execute_result"
    }
   ],
   "source": [
    "#Set up array for storing values\n",
    "\n",
    "median_ages = np.zeros((2,6))#using Numpy zeros function\n",
    "print median_ages #check if successful\n",
    "print\"\" #Leave a gap\n",
    "\n",
    "#Store median ages in the array with gender (male, female) as index and class, family travel as columns\n",
    "for i in range(0,2): #gender\n",
    "    for j in range(0,2): #family travel\n",
    "        for k in range(0,3): #class\n",
    "            median_ages[i,j*3+k] = titanic[(titanic['Gender'] == i) & (titanic['With_Family'] == j) & \\\n",
    "                                           (titanic['Pclass'] == k+1)]['Age'].dropna().median()\n",
    "median_ages"
   ]
  },
  {
   "cell_type": "markdown",
   "metadata": {},
   "source": [
    "<p> The median ages of the subgroups are shown below: </p>"
   ]
  },
  {
   "cell_type": "code",
   "execution_count": 7,
   "metadata": {
    "collapsed": false
   },
   "outputs": [
    {
     "name": "stdout",
     "output_type": "stream",
     "text": [
      "Populating the interactive namespace from numpy and matplotlib\n"
     ]
    },
    {
     "data": {
      "text/plain": [
       "<Container object of 12 artists>"
      ]
     },
     "execution_count": 7,
     "metadata": {},
     "output_type": "execute_result"
    },
    {
     "data": {
      "image/png": "[encoded data removed]",
      "text/plain": [
       "<matplotlib.figure.Figure at 0x118261ad0>"
      ]
     },
     "metadata": {},
     "output_type": "display_data"
    }
   ],
   "source": [
    "%pylab inline\n",
    "\n",
    "#set up the plot basics\n",
    "fig = plt.figure(figsize = (20,9))\n",
    "ax = fig.add_subplot(111)\n",
    "#proper x-axis labels\n",
    "x = np.arange(12)\n",
    "x_labels = np.array(['men, 1, no fam', 'men, 2, no fam', 'men, 3, no fam',\\\n",
    "           'men, 1, fam', 'men, 2, fam','men, 3, fam','women, 1, no fam', 'women, 2, no fam', 'women, 3, no fam',\\\n",
    "           'women, 1, fam', 'women, 2, fam','women, 3, fam'])\n",
    "#assign desired x-axis labels for display on plot and change the font size for readibility\n",
    "plt.xticks(x, x_labels, fontsize=12)\n",
    "plt.yticks(fontsize=15)\n",
    "#set the plot titles (main, x/y-axes)\n",
    "plt.title('Median Age of Passenger Subgroups', fontsize = 15)\n",
    "plt.xlabel('Passenger Description (Gender, Class, Family travel)', fontsize=15)\n",
    "plt.ylabel('Age (years)',fontsize=15)\n",
    "#lower the x-axis label\n",
    "ax.xaxis.labelpad = 20\n",
    "#organize the information for the y-axis\n",
    "y = np.concatenate((median_ages[0],median_ages[1]),axis=0)\n",
    "#show a basic bar graph\n",
    "ax.bar(x, y,width=0.5, align = 'center', alpha=0.8)"
   ]
  },
  {
   "cell_type": "markdown",
   "metadata": {
    "collapsed": true
   },
   "source": [
    "<p>The information above shows that single travellers in class 1 were generally older than those travelling with their family in lower classes. Also, men tend to be older than women overall. Both of the previous statements are observations only and are not tested statistically.</p>"
   ]
  },
  {
   "cell_type": "markdown",
   "metadata": {},
   "source": [
    "<p>The missing age records in the titanic database will now be populated with the median values depending on the passenger subgroup. For example, if there is no age record for a female, class 3 passenger travelling with her family, then her age will be recorded as 19.5 years. This is done to introduce as little noise in the data as possible and keep the medians of the subgroups constant. A separate column will be created so that the original data is not altered.</p>"
   ]
  },
  {
   "cell_type": "code",
   "execution_count": 8,
   "metadata": {
    "collapsed": false
   },
   "outputs": [
    {
     "data": {
      "text/html": [
       "<div>\n",
       "<table border=\"1\" class=\"dataframe\">\n",
       "  <thead>\n",
       "    <tr style=\"text-align: right;\">\n",
       "      <th></th>\n",
       "      <th>Name</th>\n",
       "      <th>Filled_Age</th>\n",
       "      <th>Age</th>\n",
       "      <th>Sex</th>\n",
       "      <th>Pclass</th>\n",
       "      <th>With_Family</th>\n",
       "    </tr>\n",
       "  </thead>\n",
       "  <tbody>\n",
       "    <tr>\n",
       "      <th>5</th>\n",
       "      <td>Moran, Mr. James</td>\n",
       "      <td>27.0</td>\n",
       "      <td>NaN</td>\n",
       "      <td>male</td>\n",
       "      <td>3</td>\n",
       "      <td>0</td>\n",
       "    </tr>\n",
       "    <tr>\n",
       "      <th>17</th>\n",
       "      <td>Williams, Mr. Charles Eugene</td>\n",
       "      <td>30.0</td>\n",
       "      <td>NaN</td>\n",
       "      <td>male</td>\n",
       "      <td>2</td>\n",
       "      <td>0</td>\n",
       "    </tr>\n",
       "    <tr>\n",
       "      <th>19</th>\n",
       "      <td>Masselmani, Mrs. Fatima</td>\n",
       "      <td>22.0</td>\n",
       "      <td>NaN</td>\n",
       "      <td>female</td>\n",
       "      <td>3</td>\n",
       "      <td>0</td>\n",
       "    </tr>\n",
       "  </tbody>\n",
       "</table>\n",
       "</div>"
      ],
      "text/plain": [
       "                            Name  Filled_Age  Age     Sex  Pclass  With_Family\n",
       "5               Moran, Mr. James        27.0  NaN    male       3            0\n",
       "17  Williams, Mr. Charles Eugene        30.0  NaN    male       2            0\n",
       "19       Masselmani, Mrs. Fatima        22.0  NaN  female       3            0"
      ]
     },
     "execution_count": 8,
     "metadata": {},
     "output_type": "execute_result"
    }
   ],
   "source": [
    "#Create new column to retain original data\n",
    "titanic['Filled_Age'] = titanic['Age']\n",
    "\n",
    "#Assign median age values from the array into the new column\n",
    "for i in range(0,2):\n",
    "    for j in range(0,2):\n",
    "        for k in range(0,3):\n",
    "            titanic.loc[(titanic.Age.isnull()) & (titanic.Gender == i) & (titanic.Pclass == k+1) & (titanic.With_Family == j),\\\n",
    "                        'Filled_Age'] = median_ages[i,j*3+k]\n",
    "\n",
    "#Check some records that were initially missing age\n",
    "titanic[(titanic['Age'].isnull())][['Name','Filled_Age','Age','Sex','Pclass','With_Family']].head(3)"
   ]
  },
  {
   "cell_type": "markdown",
   "metadata": {},
   "source": [
    "<p>The table above shows that the median ages were correctly assigned. The dataframe now has all of the age values that will be used for further analysis.</p>"
   ]
  },
  {
   "cell_type": "markdown",
   "metadata": {},
   "source": [
    "<p>The only other column with missing records that will be used in analysis is \"Embarked\". Let's find out where these empty values are. </p>"
   ]
  },
  {
   "cell_type": "code",
   "execution_count": 9,
   "metadata": {
    "collapsed": false
   },
   "outputs": [
    {
     "name": "stdout",
     "output_type": "stream",
     "text": [
      "These are the index numbers of the missing Embarked values\n",
      "[ 61 829]\n",
      "\n",
      "These are the complete records of those index values\n"
     ]
    },
    {
     "data": {
      "text/html": [
       "<div>\n",
       "<table border=\"1\" class=\"dataframe\">\n",
       "  <thead>\n",
       "    <tr style=\"text-align: right;\">\n",
       "      <th></th>\n",
       "      <th>PassengerId</th>\n",
       "      <th>Survived</th>\n",
       "      <th>Pclass</th>\n",
       "      <th>Name</th>\n",
       "      <th>Sex</th>\n",
       "      <th>Age</th>\n",
       "      <th>SibSp</th>\n",
       "      <th>Parch</th>\n",
       "      <th>Ticket</th>\n",
       "      <th>Fare</th>\n",
       "      <th>Cabin</th>\n",
       "      <th>Embarked</th>\n",
       "      <th>With_Family</th>\n",
       "      <th>Gender</th>\n",
       "      <th>Filled_Age</th>\n",
       "    </tr>\n",
       "  </thead>\n",
       "  <tbody>\n",
       "    <tr>\n",
       "      <th>61</th>\n",
       "      <td>62</td>\n",
       "      <td>1</td>\n",
       "      <td>1</td>\n",
       "      <td>Icard, Miss. Amelie</td>\n",
       "      <td>female</td>\n",
       "      <td>38.0</td>\n",
       "      <td>0</td>\n",
       "      <td>0</td>\n",
       "      <td>113572</td>\n",
       "      <td>80.0</td>\n",
       "      <td>B28</td>\n",
       "      <td>NaN</td>\n",
       "      <td>0</td>\n",
       "      <td>1</td>\n",
       "      <td>38.0</td>\n",
       "    </tr>\n",
       "    <tr>\n",
       "      <th>829</th>\n",
       "      <td>830</td>\n",
       "      <td>1</td>\n",
       "      <td>1</td>\n",
       "      <td>Stone, Mrs. George Nelson (Martha Evelyn)</td>\n",
       "      <td>female</td>\n",
       "      <td>62.0</td>\n",
       "      <td>0</td>\n",
       "      <td>0</td>\n",
       "      <td>113572</td>\n",
       "      <td>80.0</td>\n",
       "      <td>B28</td>\n",
       "      <td>NaN</td>\n",
       "      <td>0</td>\n",
       "      <td>1</td>\n",
       "      <td>62.0</td>\n",
       "    </tr>\n",
       "  </tbody>\n",
       "</table>\n",
       "</div>"
      ],
      "text/plain": [
       "     PassengerId  Survived  Pclass                                       Name  \\\n",
       "61            62         1       1                        Icard, Miss. Amelie   \n",
       "829          830         1       1  Stone, Mrs. George Nelson (Martha Evelyn)   \n",
       "\n",
       "        Sex   Age  SibSp  Parch  Ticket  Fare Cabin Embarked  With_Family  \\\n",
       "61   female  38.0      0      0  113572  80.0   B28      NaN            0   \n",
       "829  female  62.0      0      0  113572  80.0   B28      NaN            0   \n",
       "\n",
       "     Gender  Filled_Age  \n",
       "61        1        38.0  \n",
       "829       1        62.0  "
      ]
     },
     "execution_count": 9,
     "metadata": {},
     "output_type": "execute_result"
    }
   ],
   "source": [
    "#to get the index numbers of the missing 'Embarked' values\n",
    "null_embarked_index = titanic[titanic[\"Embarked\"].isnull()].index.values.astype(int)\n",
    "print \"These are the index numbers of the missing Embarked values\"\n",
    "print null_embarked_index\n",
    "print ''\n",
    "print 'These are the complete records of those index values'\n",
    "titanic[titanic['Embarked'].isnull()]"
   ]
  },
  {
   "cell_type": "markdown",
   "metadata": {},
   "source": [
    "<p>It seems that both passengers with missing \"Embarked\" records have the same ticket numbers and paid the same fair. Let's see if this is common and if there are other instances of this.</p>"
   ]
  },
  {
   "cell_type": "code",
   "execution_count": 10,
   "metadata": {
    "collapsed": false
   },
   "outputs": [
    {
     "data": {
      "text/plain": [
       "{'110152': [504, 257, 759],\n",
       " '110413': [262, 558, 585],\n",
       " '110465': [110, 475],\n",
       " '110564': [430],\n",
       " '110813': [366],\n",
       " '111240': [170],\n",
       " '111320': [462],\n",
       " '111361': [523, 329],\n",
       " '111369': [889],\n",
       " '111426': [604],\n",
       " '111427': [507],\n",
       " '111428': [187],\n",
       " '112050': [806],\n",
       " '112052': [633],\n",
       " '112053': [887],\n",
       " '112058': [815],\n",
       " '112059': [263],\n",
       " '112277': [209],\n",
       " '112379': [766],\n",
       " '113028': [711],\n",
       " '113043': [331],\n",
       " '113050': [536],\n",
       " '113051': [452],\n",
       " '113055': [857],\n",
       " '113056': [284],\n",
       " '113059': [83],\n",
       " '113501': [782],\n",
       " '113503': [377],\n",
       " '113505': [166, 356],\n",
       " '113509': [54],\n",
       " '113510': [351],\n",
       " '113514': [252],\n",
       " '113572': [61, 829],\n",
       " '113760': [435, 390, 802, 763],\n",
       " '113767': [185],\n",
       " '113773': [748],\n",
       " '113776': [336, 151],\n",
       " '113781': [708]}"
      ]
     },
     "execution_count": 10,
     "metadata": {},
     "output_type": "execute_result"
    }
   ],
   "source": [
    "#Sort the tickets into groups to see if there are other cases of the same ticket numbers\n",
    "sorted_tickets = titanic.sort_values('Ticket')\n",
    "#Only the top 50 rows of the sorted tickets dataframe were included to avoid crowding\n",
    "sorted_tickets[:50].groupby('Ticket').groups"
   ]
  },
  {
   "cell_type": "markdown",
   "metadata": {},
   "source": [
    "<p>It seems there are a few instances of multiple tickets with the same number. Index numbers 110 and 475 have the same ticket number as well as index numbers 504, 257, and 759. Let's take a look at these records to see whether they differ in embarked place and/or fare paid.</p>"
   ]
  },
  {
   "cell_type": "code",
   "execution_count": 11,
   "metadata": {
    "collapsed": false
   },
   "outputs": [
    {
     "name": "stdout",
     "output_type": "stream",
     "text": [
      "Name        Porter, Mr. Walter Chamberlain\n",
      "Ticket                              110465\n",
      "Embarked                                 S\n",
      "Fare                                    52\n",
      "Name: 110, dtype: object\n",
      "Name        Clifford, Mr. George Quincy\n",
      "Ticket                           110465\n",
      "Embarked                              S\n",
      "Fare                                 52\n",
      "Name: 475, dtype: object\n",
      "\n",
      "Ticket      110152\n",
      "Embarked         S\n",
      "Fare          86.5\n",
      "Name: 504, dtype: object\n",
      "Ticket      110152\n",
      "Embarked         S\n",
      "Fare          86.5\n",
      "Name: 257, dtype: object\n",
      "Ticket      110152\n",
      "Embarked         S\n",
      "Fare          86.5\n",
      "Name: 759, dtype: object\n"
     ]
    }
   ],
   "source": [
    "print titanic.iloc[110][['Name','Ticket','Embarked','Fare']]\n",
    "print titanic.iloc[475][['Name','Ticket','Embarked','Fare']]\n",
    "print \"\"\n",
    "print titanic.iloc[504][['Ticket','Embarked','Fare']]\n",
    "print titanic.iloc[257][['Ticket','Embarked','Fare']]\n",
    "print titanic.iloc[759][['Ticket','Embarked','Fare']]"
   ]
  },
  {
   "cell_type": "markdown",
   "metadata": {},
   "source": [
    "<p>Both cases above display that people with the same ticket number paid the same fare and embarked from the same place; however, the tickets belong to different people. Looking at the evidence above, it is fair to conclude that both of the tickets under investigation embarked from the same place.</p>"
   ]
  },
  {
   "cell_type": "markdown",
   "metadata": {},
   "source": [
    "<p>Now let's investigate if there is a relationship between ticket number and place of embarkment. The sorted tickets column will be compared against the embarked place to see if certain letter or number combinations of tickets are more likely to originate from a certain place.</p>"
   ]
  },
  {
   "cell_type": "code",
   "execution_count": 12,
   "metadata": {
    "collapsed": false
   },
   "outputs": [
    {
     "data": {
      "text/html": [
       "<div>\n",
       "<table border=\"1\" class=\"dataframe\">\n",
       "  <thead>\n",
       "    <tr style=\"text-align: right;\">\n",
       "      <th></th>\n",
       "      <th>Ticket</th>\n",
       "      <th>Embarked</th>\n",
       "    </tr>\n",
       "  </thead>\n",
       "  <tbody>\n",
       "    <tr>\n",
       "      <th>504</th>\n",
       "      <td>110152</td>\n",
       "      <td>S</td>\n",
       "    </tr>\n",
       "    <tr>\n",
       "      <th>257</th>\n",
       "      <td>110152</td>\n",
       "      <td>S</td>\n",
       "    </tr>\n",
       "    <tr>\n",
       "      <th>759</th>\n",
       "      <td>110152</td>\n",
       "      <td>S</td>\n",
       "    </tr>\n",
       "    <tr>\n",
       "      <th>262</th>\n",
       "      <td>110413</td>\n",
       "      <td>S</td>\n",
       "    </tr>\n",
       "    <tr>\n",
       "      <th>558</th>\n",
       "      <td>110413</td>\n",
       "      <td>S</td>\n",
       "    </tr>\n",
       "    <tr>\n",
       "      <th>585</th>\n",
       "      <td>110413</td>\n",
       "      <td>S</td>\n",
       "    </tr>\n",
       "    <tr>\n",
       "      <th>110</th>\n",
       "      <td>110465</td>\n",
       "      <td>S</td>\n",
       "    </tr>\n",
       "    <tr>\n",
       "      <th>475</th>\n",
       "      <td>110465</td>\n",
       "      <td>S</td>\n",
       "    </tr>\n",
       "    <tr>\n",
       "      <th>430</th>\n",
       "      <td>110564</td>\n",
       "      <td>S</td>\n",
       "    </tr>\n",
       "    <tr>\n",
       "      <th>366</th>\n",
       "      <td>110813</td>\n",
       "      <td>C</td>\n",
       "    </tr>\n",
       "    <tr>\n",
       "      <th>170</th>\n",
       "      <td>111240</td>\n",
       "      <td>S</td>\n",
       "    </tr>\n",
       "    <tr>\n",
       "      <th>462</th>\n",
       "      <td>111320</td>\n",
       "      <td>S</td>\n",
       "    </tr>\n",
       "    <tr>\n",
       "      <th>523</th>\n",
       "      <td>111361</td>\n",
       "      <td>C</td>\n",
       "    </tr>\n",
       "    <tr>\n",
       "      <th>329</th>\n",
       "      <td>111361</td>\n",
       "      <td>C</td>\n",
       "    </tr>\n",
       "    <tr>\n",
       "      <th>889</th>\n",
       "      <td>111369</td>\n",
       "      <td>C</td>\n",
       "    </tr>\n",
       "    <tr>\n",
       "      <th>604</th>\n",
       "      <td>111426</td>\n",
       "      <td>C</td>\n",
       "    </tr>\n",
       "    <tr>\n",
       "      <th>507</th>\n",
       "      <td>111427</td>\n",
       "      <td>S</td>\n",
       "    </tr>\n",
       "    <tr>\n",
       "      <th>187</th>\n",
       "      <td>111428</td>\n",
       "      <td>S</td>\n",
       "    </tr>\n",
       "    <tr>\n",
       "      <th>806</th>\n",
       "      <td>112050</td>\n",
       "      <td>S</td>\n",
       "    </tr>\n",
       "    <tr>\n",
       "      <th>633</th>\n",
       "      <td>112052</td>\n",
       "      <td>S</td>\n",
       "    </tr>\n",
       "    <tr>\n",
       "      <th>887</th>\n",
       "      <td>112053</td>\n",
       "      <td>S</td>\n",
       "    </tr>\n",
       "    <tr>\n",
       "      <th>815</th>\n",
       "      <td>112058</td>\n",
       "      <td>S</td>\n",
       "    </tr>\n",
       "    <tr>\n",
       "      <th>263</th>\n",
       "      <td>112059</td>\n",
       "      <td>S</td>\n",
       "    </tr>\n",
       "    <tr>\n",
       "      <th>209</th>\n",
       "      <td>112277</td>\n",
       "      <td>C</td>\n",
       "    </tr>\n",
       "    <tr>\n",
       "      <th>766</th>\n",
       "      <td>112379</td>\n",
       "      <td>C</td>\n",
       "    </tr>\n",
       "    <tr>\n",
       "      <th>711</th>\n",
       "      <td>113028</td>\n",
       "      <td>S</td>\n",
       "    </tr>\n",
       "    <tr>\n",
       "      <th>331</th>\n",
       "      <td>113043</td>\n",
       "      <td>S</td>\n",
       "    </tr>\n",
       "    <tr>\n",
       "      <th>536</th>\n",
       "      <td>113050</td>\n",
       "      <td>S</td>\n",
       "    </tr>\n",
       "    <tr>\n",
       "      <th>452</th>\n",
       "      <td>113051</td>\n",
       "      <td>C</td>\n",
       "    </tr>\n",
       "    <tr>\n",
       "      <th>857</th>\n",
       "      <td>113055</td>\n",
       "      <td>S</td>\n",
       "    </tr>\n",
       "    <tr>\n",
       "      <th>284</th>\n",
       "      <td>113056</td>\n",
       "      <td>S</td>\n",
       "    </tr>\n",
       "    <tr>\n",
       "      <th>83</th>\n",
       "      <td>113059</td>\n",
       "      <td>S</td>\n",
       "    </tr>\n",
       "    <tr>\n",
       "      <th>782</th>\n",
       "      <td>113501</td>\n",
       "      <td>S</td>\n",
       "    </tr>\n",
       "    <tr>\n",
       "      <th>377</th>\n",
       "      <td>113503</td>\n",
       "      <td>C</td>\n",
       "    </tr>\n",
       "    <tr>\n",
       "      <th>166</th>\n",
       "      <td>113505</td>\n",
       "      <td>S</td>\n",
       "    </tr>\n",
       "    <tr>\n",
       "      <th>356</th>\n",
       "      <td>113505</td>\n",
       "      <td>S</td>\n",
       "    </tr>\n",
       "    <tr>\n",
       "      <th>54</th>\n",
       "      <td>113509</td>\n",
       "      <td>C</td>\n",
       "    </tr>\n",
       "    <tr>\n",
       "      <th>351</th>\n",
       "      <td>113510</td>\n",
       "      <td>S</td>\n",
       "    </tr>\n",
       "    <tr>\n",
       "      <th>252</th>\n",
       "      <td>113514</td>\n",
       "      <td>S</td>\n",
       "    </tr>\n",
       "    <tr>\n",
       "      <th>61</th>\n",
       "      <td>113572</td>\n",
       "      <td>NaN</td>\n",
       "    </tr>\n",
       "    <tr>\n",
       "      <th>829</th>\n",
       "      <td>113572</td>\n",
       "      <td>NaN</td>\n",
       "    </tr>\n",
       "    <tr>\n",
       "      <th>435</th>\n",
       "      <td>113760</td>\n",
       "      <td>S</td>\n",
       "    </tr>\n",
       "    <tr>\n",
       "      <th>390</th>\n",
       "      <td>113760</td>\n",
       "      <td>S</td>\n",
       "    </tr>\n",
       "    <tr>\n",
       "      <th>802</th>\n",
       "      <td>113760</td>\n",
       "      <td>S</td>\n",
       "    </tr>\n",
       "    <tr>\n",
       "      <th>763</th>\n",
       "      <td>113760</td>\n",
       "      <td>S</td>\n",
       "    </tr>\n",
       "    <tr>\n",
       "      <th>185</th>\n",
       "      <td>113767</td>\n",
       "      <td>S</td>\n",
       "    </tr>\n",
       "    <tr>\n",
       "      <th>748</th>\n",
       "      <td>113773</td>\n",
       "      <td>S</td>\n",
       "    </tr>\n",
       "    <tr>\n",
       "      <th>336</th>\n",
       "      <td>113776</td>\n",
       "      <td>S</td>\n",
       "    </tr>\n",
       "    <tr>\n",
       "      <th>151</th>\n",
       "      <td>113776</td>\n",
       "      <td>S</td>\n",
       "    </tr>\n",
       "    <tr>\n",
       "      <th>708</th>\n",
       "      <td>113781</td>\n",
       "      <td>S</td>\n",
       "    </tr>\n",
       "    <tr>\n",
       "      <th>...</th>\n",
       "      <td>...</td>\n",
       "      <td>...</td>\n",
       "    </tr>\n",
       "    <tr>\n",
       "      <th>84</th>\n",
       "      <td>SO/C 14885</td>\n",
       "      <td>S</td>\n",
       "    </tr>\n",
       "    <tr>\n",
       "      <th>611</th>\n",
       "      <td>SOTON/O.Q. 3101305</td>\n",
       "      <td>S</td>\n",
       "    </tr>\n",
       "    <tr>\n",
       "      <th>465</th>\n",
       "      <td>SOTON/O.Q. 3101306</td>\n",
       "      <td>S</td>\n",
       "    </tr>\n",
       "    <tr>\n",
       "      <th>131</th>\n",
       "      <td>SOTON/O.Q. 3101307</td>\n",
       "      <td>S</td>\n",
       "    </tr>\n",
       "    <tr>\n",
       "      <th>363</th>\n",
       "      <td>SOTON/O.Q. 3101310</td>\n",
       "      <td>S</td>\n",
       "    </tr>\n",
       "    <tr>\n",
       "      <th>210</th>\n",
       "      <td>SOTON/O.Q. 3101311</td>\n",
       "      <td>S</td>\n",
       "    </tr>\n",
       "    <tr>\n",
       "      <th>784</th>\n",
       "      <td>SOTON/O.Q. 3101312</td>\n",
       "      <td>S</td>\n",
       "    </tr>\n",
       "    <tr>\n",
       "      <th>429</th>\n",
       "      <td>SOTON/O.Q. 392078</td>\n",
       "      <td>S</td>\n",
       "    </tr>\n",
       "    <tr>\n",
       "      <th>564</th>\n",
       "      <td>SOTON/O.Q. 392087</td>\n",
       "      <td>S</td>\n",
       "    </tr>\n",
       "    <tr>\n",
       "      <th>761</th>\n",
       "      <td>SOTON/O2 3101272</td>\n",
       "      <td>S</td>\n",
       "    </tr>\n",
       "    <tr>\n",
       "      <th>840</th>\n",
       "      <td>SOTON/O2 3101287</td>\n",
       "      <td>S</td>\n",
       "    </tr>\n",
       "    <tr>\n",
       "      <th>511</th>\n",
       "      <td>SOTON/OQ 3101316</td>\n",
       "      <td>S</td>\n",
       "    </tr>\n",
       "    <tr>\n",
       "      <th>491</th>\n",
       "      <td>SOTON/OQ 3101317</td>\n",
       "      <td>S</td>\n",
       "    </tr>\n",
       "    <tr>\n",
       "      <th>884</th>\n",
       "      <td>SOTON/OQ 392076</td>\n",
       "      <td>S</td>\n",
       "    </tr>\n",
       "    <tr>\n",
       "      <th>563</th>\n",
       "      <td>SOTON/OQ 392082</td>\n",
       "      <td>S</td>\n",
       "    </tr>\n",
       "    <tr>\n",
       "      <th>87</th>\n",
       "      <td>SOTON/OQ 392086</td>\n",
       "      <td>S</td>\n",
       "    </tr>\n",
       "    <tr>\n",
       "      <th>220</th>\n",
       "      <td>SOTON/OQ 392089</td>\n",
       "      <td>S</td>\n",
       "    </tr>\n",
       "    <tr>\n",
       "      <th>157</th>\n",
       "      <td>SOTON/OQ 392090</td>\n",
       "      <td>S</td>\n",
       "    </tr>\n",
       "    <tr>\n",
       "      <th>414</th>\n",
       "      <td>STON/O 2. 3101269</td>\n",
       "      <td>S</td>\n",
       "    </tr>\n",
       "    <tr>\n",
       "      <th>590</th>\n",
       "      <td>STON/O 2. 3101273</td>\n",
       "      <td>S</td>\n",
       "    </tr>\n",
       "    <tr>\n",
       "      <th>433</th>\n",
       "      <td>STON/O 2. 3101274</td>\n",
       "      <td>S</td>\n",
       "    </tr>\n",
       "    <tr>\n",
       "      <th>243</th>\n",
       "      <td>STON/O 2. 3101275</td>\n",
       "      <td>S</td>\n",
       "    </tr>\n",
       "    <tr>\n",
       "      <th>173</th>\n",
       "      <td>STON/O 2. 3101280</td>\n",
       "      <td>S</td>\n",
       "    </tr>\n",
       "    <tr>\n",
       "      <th>664</th>\n",
       "      <td>STON/O 2. 3101285</td>\n",
       "      <td>S</td>\n",
       "    </tr>\n",
       "    <tr>\n",
       "      <th>579</th>\n",
       "      <td>STON/O 2. 3101286</td>\n",
       "      <td>S</td>\n",
       "    </tr>\n",
       "    <tr>\n",
       "      <th>744</th>\n",
       "      <td>STON/O 2. 3101288</td>\n",
       "      <td>S</td>\n",
       "    </tr>\n",
       "    <tr>\n",
       "      <th>400</th>\n",
       "      <td>STON/O 2. 3101289</td>\n",
       "      <td>S</td>\n",
       "    </tr>\n",
       "    <tr>\n",
       "      <th>636</th>\n",
       "      <td>STON/O 2. 3101292</td>\n",
       "      <td>S</td>\n",
       "    </tr>\n",
       "    <tr>\n",
       "      <th>382</th>\n",
       "      <td>STON/O 2. 3101293</td>\n",
       "      <td>S</td>\n",
       "    </tr>\n",
       "    <tr>\n",
       "      <th>115</th>\n",
       "      <td>STON/O 2. 3101294</td>\n",
       "      <td>S</td>\n",
       "    </tr>\n",
       "    <tr>\n",
       "      <th>729</th>\n",
       "      <td>STON/O2. 3101271</td>\n",
       "      <td>S</td>\n",
       "    </tr>\n",
       "    <tr>\n",
       "      <th>142</th>\n",
       "      <td>STON/O2. 3101279</td>\n",
       "      <td>S</td>\n",
       "    </tr>\n",
       "    <tr>\n",
       "      <th>403</th>\n",
       "      <td>STON/O2. 3101279</td>\n",
       "      <td>S</td>\n",
       "    </tr>\n",
       "    <tr>\n",
       "      <th>2</th>\n",
       "      <td>STON/O2. 3101282</td>\n",
       "      <td>S</td>\n",
       "    </tr>\n",
       "    <tr>\n",
       "      <th>216</th>\n",
       "      <td>STON/O2. 3101283</td>\n",
       "      <td>S</td>\n",
       "    </tr>\n",
       "    <tr>\n",
       "      <th>816</th>\n",
       "      <td>STON/O2. 3101290</td>\n",
       "      <td>S</td>\n",
       "    </tr>\n",
       "    <tr>\n",
       "      <th>226</th>\n",
       "      <td>SW/PP 751</td>\n",
       "      <td>S</td>\n",
       "    </tr>\n",
       "    <tr>\n",
       "      <th>526</th>\n",
       "      <td>W./C. 14258</td>\n",
       "      <td>S</td>\n",
       "    </tr>\n",
       "    <tr>\n",
       "      <th>242</th>\n",
       "      <td>W./C. 14263</td>\n",
       "      <td>S</td>\n",
       "    </tr>\n",
       "    <tr>\n",
       "      <th>783</th>\n",
       "      <td>W./C. 6607</td>\n",
       "      <td>S</td>\n",
       "    </tr>\n",
       "    <tr>\n",
       "      <th>888</th>\n",
       "      <td>W./C. 6607</td>\n",
       "      <td>S</td>\n",
       "    </tr>\n",
       "    <tr>\n",
       "      <th>147</th>\n",
       "      <td>W./C. 6608</td>\n",
       "      <td>S</td>\n",
       "    </tr>\n",
       "    <tr>\n",
       "      <th>436</th>\n",
       "      <td>W./C. 6608</td>\n",
       "      <td>S</td>\n",
       "    </tr>\n",
       "    <tr>\n",
       "      <th>86</th>\n",
       "      <td>W./C. 6608</td>\n",
       "      <td>S</td>\n",
       "    </tr>\n",
       "    <tr>\n",
       "      <th>736</th>\n",
       "      <td>W./C. 6608</td>\n",
       "      <td>S</td>\n",
       "    </tr>\n",
       "    <tr>\n",
       "      <th>235</th>\n",
       "      <td>W./C. 6609</td>\n",
       "      <td>S</td>\n",
       "    </tr>\n",
       "    <tr>\n",
       "      <th>92</th>\n",
       "      <td>W.E.P. 5734</td>\n",
       "      <td>S</td>\n",
       "    </tr>\n",
       "    <tr>\n",
       "      <th>219</th>\n",
       "      <td>W/C 14208</td>\n",
       "      <td>S</td>\n",
       "    </tr>\n",
       "    <tr>\n",
       "      <th>540</th>\n",
       "      <td>WE/P 5735</td>\n",
       "      <td>S</td>\n",
       "    </tr>\n",
       "    <tr>\n",
       "      <th>745</th>\n",
       "      <td>WE/P 5735</td>\n",
       "      <td>S</td>\n",
       "    </tr>\n",
       "  </tbody>\n",
       "</table>\n",
       "<p>891 rows × 2 columns</p>\n",
       "</div>"
      ],
      "text/plain": [
       "                 Ticket Embarked\n",
       "504              110152        S\n",
       "257              110152        S\n",
       "759              110152        S\n",
       "262              110413        S\n",
       "558              110413        S\n",
       "585              110413        S\n",
       "110              110465        S\n",
       "475              110465        S\n",
       "430              110564        S\n",
       "366              110813        C\n",
       "170              111240        S\n",
       "462              111320        S\n",
       "523              111361        C\n",
       "329              111361        C\n",
       "889              111369        C\n",
       "604              111426        C\n",
       "507              111427        S\n",
       "187              111428        S\n",
       "806              112050        S\n",
       "633              112052        S\n",
       "887              112053        S\n",
       "815              112058        S\n",
       "263              112059        S\n",
       "209              112277        C\n",
       "766              112379        C\n",
       "711              113028        S\n",
       "331              113043        S\n",
       "536              113050        S\n",
       "452              113051        C\n",
       "857              113055        S\n",
       "284              113056        S\n",
       "83               113059        S\n",
       "782              113501        S\n",
       "377              113503        C\n",
       "166              113505        S\n",
       "356              113505        S\n",
       "54               113509        C\n",
       "351              113510        S\n",
       "252              113514        S\n",
       "61               113572      NaN\n",
       "829              113572      NaN\n",
       "435              113760        S\n",
       "390              113760        S\n",
       "802              113760        S\n",
       "763              113760        S\n",
       "185              113767        S\n",
       "748              113773        S\n",
       "336              113776        S\n",
       "151              113776        S\n",
       "708              113781        S\n",
       "..                  ...      ...\n",
       "84           SO/C 14885        S\n",
       "611  SOTON/O.Q. 3101305        S\n",
       "465  SOTON/O.Q. 3101306        S\n",
       "131  SOTON/O.Q. 3101307        S\n",
       "363  SOTON/O.Q. 3101310        S\n",
       "210  SOTON/O.Q. 3101311        S\n",
       "784  SOTON/O.Q. 3101312        S\n",
       "429   SOTON/O.Q. 392078        S\n",
       "564   SOTON/O.Q. 392087        S\n",
       "761    SOTON/O2 3101272        S\n",
       "840    SOTON/O2 3101287        S\n",
       "511    SOTON/OQ 3101316        S\n",
       "491    SOTON/OQ 3101317        S\n",
       "884     SOTON/OQ 392076        S\n",
       "563     SOTON/OQ 392082        S\n",
       "87      SOTON/OQ 392086        S\n",
       "220     SOTON/OQ 392089        S\n",
       "157     SOTON/OQ 392090        S\n",
       "414   STON/O 2. 3101269        S\n",
       "590   STON/O 2. 3101273        S\n",
       "433   STON/O 2. 3101274        S\n",
       "243   STON/O 2. 3101275        S\n",
       "173   STON/O 2. 3101280        S\n",
       "664   STON/O 2. 3101285        S\n",
       "579   STON/O 2. 3101286        S\n",
       "744   STON/O 2. 3101288        S\n",
       "400   STON/O 2. 3101289        S\n",
       "636   STON/O 2. 3101292        S\n",
       "382   STON/O 2. 3101293        S\n",
       "115   STON/O 2. 3101294        S\n",
       "729    STON/O2. 3101271        S\n",
       "142    STON/O2. 3101279        S\n",
       "403    STON/O2. 3101279        S\n",
       "2      STON/O2. 3101282        S\n",
       "216    STON/O2. 3101283        S\n",
       "816    STON/O2. 3101290        S\n",
       "226           SW/PP 751        S\n",
       "526         W./C. 14258        S\n",
       "242         W./C. 14263        S\n",
       "783          W./C. 6607        S\n",
       "888          W./C. 6607        S\n",
       "147          W./C. 6608        S\n",
       "436          W./C. 6608        S\n",
       "86           W./C. 6608        S\n",
       "736          W./C. 6608        S\n",
       "235          W./C. 6609        S\n",
       "92          W.E.P. 5734        S\n",
       "219           W/C 14208        S\n",
       "540           WE/P 5735        S\n",
       "745           WE/P 5735        S\n",
       "\n",
       "[891 rows x 2 columns]"
      ]
     },
     "execution_count": 12,
     "metadata": {},
     "output_type": "execute_result"
    }
   ],
   "source": [
    "pd.set_option('display.max_rows', 100)#Display more records\n",
    "pd.set_option('display.max_columns', 100)\n",
    "sorted_tickets[['Ticket','Embarked']]"
   ]
  },
  {
   "cell_type": "markdown",
   "metadata": {},
   "source": [
    "<p>The above table shows that most tickets starting with the numbers \"1135...\" departed from \"S\". Furthermore, the two missing values are inside a long string of \"S\" embarkments. Using this observation, along with the previous observations about the same ticket numbers and majority of embarked passengers from \"S\", it can be fairly concluded that the missing \"Embarked\" records originated from \"S\".</p> "
   ]
  },
  {
   "cell_type": "code",
   "execution_count": 13,
   "metadata": {
    "collapsed": false
   },
   "outputs": [
    {
     "name": "stdout",
     "output_type": "stream",
     "text": [
      "<class 'pandas.core.frame.DataFrame'>\n",
      "RangeIndex: 891 entries, 0 to 890\n",
      "Data columns (total 15 columns):\n",
      "PassengerId    891 non-null int64\n",
      "Survived       891 non-null int64\n",
      "Pclass         891 non-null int64\n",
      "Name           891 non-null object\n",
      "Sex            891 non-null object\n",
      "Age            714 non-null float64\n",
      "SibSp          891 non-null int64\n",
      "Parch          891 non-null int64\n",
      "Ticket         891 non-null object\n",
      "Fare           891 non-null float64\n",
      "Cabin          204 non-null object\n",
      "Embarked       891 non-null object\n",
      "With_Family    891 non-null int64\n",
      "Gender         891 non-null int64\n",
      "Filled_Age     891 non-null float64\n",
      "dtypes: float64(3), int64(7), object(5)\n",
      "memory usage: 104.5+ KB\n"
     ]
    }
   ],
   "source": [
    "#Set the missing Embarked records as \"S\"\n",
    "for i in range(0,len(null_embarked_index)):\n",
    "    titanic.loc[null_embarked_index[i],\"Embarked\"] = \"S\"\n",
    "    \n",
    "#Check if there are any missing values left\n",
    "titanic.info()"
   ]
  },
  {
   "cell_type": "markdown",
   "metadata": {
    "collapsed": true
   },
   "source": [
    "<p>The \"Embarked\" field now has all 891 values, as well as the \"Filled_Age\" field which will be used for analysis regarding passenger age in the next phase. </p>"
   ]
  },
  {
   "cell_type": "markdown",
   "metadata": {},
   "source": [
    "<span style=\"font-family:'Palatino Linotype'; font-size:25px; text-decoration:underline;\">Data Exploration</span>"
   ]
  },
  {
   "cell_type": "markdown",
   "metadata": {
    "collapsed": true
   },
   "source": [
    "<p>Firstly, let's determine if age was a factor in surviving the Titanic incident. The range of ages in the Titanic dataset will be found along with the mean and standard deviation. These statistics will help in forming bins of the age ranges to display the number of survivors in each age range.\n",
    "</p>"
   ]
  },
  {
   "cell_type": "code",
   "execution_count": 14,
   "metadata": {
    "collapsed": false
   },
   "outputs": [
    {
     "name": "stdout",
     "output_type": "stream",
     "text": [
      "Total survivors in the 891 records:  342\n",
      "\n",
      "count    891.000000\n",
      "mean      29.231392\n",
      "std       13.486564\n",
      "min        0.420000\n",
      "25%       21.000000\n",
      "50%       27.000000\n",
      "75%       36.000000\n",
      "max       80.000000\n",
      "Name: Filled_Age, dtype: float64\n"
     ]
    }
   ],
   "source": [
    "#Determine total number of survivors\n",
    "total_surv = titanic['Survived'].sum()\n",
    "print \"Total survivors in the 891 records: \",total_surv\n",
    "print \"\"\n",
    "#Statistics about the age of all passengers in the dataset\n",
    "print titanic['Filled_Age'].describe()"
   ]
  },
  {
   "cell_type": "markdown",
   "metadata": {},
   "source": [
    "<p>Based on the statistics above, the ages of all of the passengers will be recorded in 9 groups with age range 9. This age range was chosen because it results in round division and remains close to the standard deviation of the ages. For example, the first group will count all of the people that survived aged 0-8, second group will be surviving passengers aged 9-17, etc.</p> "
   ]
  },
  {
   "cell_type": "code",
   "execution_count": 15,
   "metadata": {
    "collapsed": false
   },
   "outputs": [],
   "source": [
    "#Set up an empty array to store the number of surviving passengers ine each age group\n",
    "tot_surv_age = zeros(9)\n",
    "\n",
    "#Convert the ages into integers for easy comparison\n",
    "titanic['Filled_Age'] = titanic['Filled_Age'].round(0).astype(int)\n",
    "\n",
    "#Record the number of survivors in each age group in the array that was previously set up\n",
    "for i in range(0,9):\n",
    "    tot_surv_age[i] = titanic[(titanic['Filled_Age']>=i*9) & (titanic['Filled_Age']<(i*9)+9) & \\\n",
    "                              (titanic['Survived'] == 1)]['Name'].count()"
   ]
  },
  {
   "cell_type": "code",
   "execution_count": 16,
   "metadata": {
    "collapsed": false
   },
   "outputs": [
    {
     "name": "stdout",
     "output_type": "stream",
     "text": [
      "[ 36.  25.  97.  96.  40.  32.  13.   2.   1.]\n",
      "Total number of surviviors:  342.0\n"
     ]
    }
   ],
   "source": [
    "#show number of survivors in each age group\n",
    "print tot_surv_age\n",
    "#Check if total number of survivors is consistent\n",
    "print \"Total number of surviviors: \",tot_surv_age.sum()"
   ]
  },
  {
   "cell_type": "markdown",
   "metadata": {},
   "source": [
    "<p>The results above show that the most number of passengers that survived the Titanic incident were 18 - 26 years old. Next, I will examine the total number of passengers in each age group and the percentage of survivors to determine if age was a factor in surviving the sinking of the Titanic.</p>"
   ]
  },
  {
   "cell_type": "code",
   "execution_count": 17,
   "metadata": {
    "collapsed": false
   },
   "outputs": [
    {
     "name": "stdout",
     "output_type": "stream",
     "text": [
      "[ 0.  0.  0.  0.  0.  0.  0.  0.  0.]\n",
      "\n",
      "[  54.   59.  265.  275.  102.   86.   35.   13.    2.]\n",
      "Passenger survival percentage by age\n",
      "[ 67.  42.  37.  35.  39.  37.  37.  15.  50.]\n"
     ]
    }
   ],
   "source": [
    "tot_pass_age = np.zeros(9)\n",
    "print tot_pass_age\n",
    "print ''\n",
    "#Record the total number of passengers in each defined age group\n",
    "for i in range(0,9):\n",
    "    tot_pass_age[i] = titanic[(titanic['Filled_Age']>=i*9) & (titanic['Filled_Age']<(i*9)+9)]['Name'].count()\n",
    "\n",
    "print tot_pass_age\n",
    "\n",
    "#Percentage of passengers that survived from each age group\n",
    "perc_surv_age = np.around(((tot_surv_age/tot_pass_age)*100),decimals=0)\n",
    "print \"Passenger survival percentage by age\"\n",
    "print perc_surv_age"
   ]
  },
  {
   "cell_type": "code",
   "execution_count": 18,
   "metadata": {
    "collapsed": false
   },
   "outputs": [
    {
     "name": "stdout",
     "output_type": "stream",
     "text": [
      "Populating the interactive namespace from numpy and matplotlib\n"
     ]
    },
    {
     "data": {
      "text/plain": [
       "<Container object of 9 artists>"
      ]
     },
     "execution_count": 18,
     "metadata": {},
     "output_type": "execute_result"
    },
    {
     "data": {
      "image/png": "[encoded data removed]",
      "text/plain": [
       "<matplotlib.figure.Figure at 0x118965fd0>"
      ]
     },
     "metadata": {},
     "output_type": "display_data"
    }
   ],
   "source": [
    "%pylab inline\n",
    "\n",
    "#Set up the figure in the background\n",
    "fig = plt.figure(1,figsize(12,9))\n",
    "#Add a blank canvas onto the figure with the appropriate background color and titles\n",
    "ax = fig.add_subplot(111, axisbg=(\"white\"))\n",
    "#Set the labels for the x-axis\n",
    "x = np.arange(9)\n",
    "x_label = [\"0 - 8\", \"9 - 17\", \"18 - 26\", \"27 - 35\", \"36 - 44\",\"45-53\",\"54-62\", \"63-71\", \"72-80\"]\n",
    "\n",
    "y = perc_surv_age.astype(int)\n",
    "#Set the limits and axes of the graph\n",
    "plt.ylim(0,65) #min and max values of the y-axis\n",
    "\n",
    "plt.xticks(x, x_label, fontsize=15) #set the x-axis as the age range and increase the font\n",
    "plt.yticks(range(0,75,5), fontsize=15) #set the numbers on the y-axis and increase the font\n",
    "plt.text(4.5,75,\"Percentage of Survivors in Each Age Group on the Titanic\",fontsize=15,ha=\"center\")#set the graph title\n",
    "#set the x and y-axes labels\n",
    "plt.xlabel(\"Age (years)\",fontsize=15)\n",
    "plt.ylabel(\"Survived (%)\",fontsize=15)\n",
    "#make horizontal lines for easy interpretation of graph numbers\n",
    "for ay in range(0,80,10):\n",
    "    plt.plot(range(0,9), [ay]*len(range(0,9)), \"--\",lw=0.9,color='black')\n",
    "#show the graph\n",
    "ax.bar(x, y, width = 0.5, align = \"center\", alpha = 0.9, color = \"#ffff00\", edgecolor = \"red\", lw = 2)"
   ]
  },
  {
   "cell_type": "markdown",
   "metadata": {},
   "source": [
    "<p>The graph above shows that the youngest passengers survived at the highest percentage while the oldest passengers survived at the lowest percentage. An interesting aspect is that passengers between age 9 and 62 survived in roughly the same percentage. From this figure, it is fair to conclude that in this sample, age was a survival factor for only the youngest and oldest passengers. This does not represent the entire population of passengers on the Titanic. </p>"
   ]
  },
  {
   "cell_type": "markdown",
   "metadata": {},
   "source": [
    "<p>The second survival factor to explore is passenger gender.</p>"
   ]
  },
  {
   "cell_type": "code",
   "execution_count": 19,
   "metadata": {
    "collapsed": false
   },
   "outputs": [],
   "source": [
    "#Set up arrays to store the number of passengers of each sex and the number that survived\n",
    "tot_pass_sex = np.zeros(2)\n",
    "tot_surv_sex = np.zeros(2)\n",
    "\n",
    "#populate the arrays\n",
    "for i in range(0,2):\n",
    "    tot_pass_sex[i] = titanic[titanic['Gender']==i]['Survived'].count()\n",
    "    tot_surv_sex[i] = titanic[(titanic['Gender']==i) & (titanic['Survived'] == 1)]['Survived'].count()"
   ]
  },
  {
   "cell_type": "code",
   "execution_count": 20,
   "metadata": {
    "collapsed": false
   },
   "outputs": [
    {
     "name": "stdout",
     "output_type": "stream",
     "text": [
      "[ 577.  314.]\n",
      "[ 109.  233.]\n",
      "\n",
      "[ 19.  74.]\n"
     ]
    }
   ],
   "source": [
    "#check results\n",
    "print tot_pass_sex\n",
    "print tot_surv_sex\n",
    "\n",
    "#get percentage of survivors from each sex\n",
    "perc_surv_sex = (tot_surv_sex/tot_pass_sex)*100\n",
    "print \"\"\n",
    "print np.around(perc_surv_sex, decimals=0)#round the numbers to the nearest integer"
   ]
  },
  {
   "cell_type": "code",
   "execution_count": 21,
   "metadata": {
    "collapsed": false
   },
   "outputs": [
    {
     "name": "stdout",
     "output_type": "stream",
     "text": [
      "Populating the interactive namespace from numpy and matplotlib\n"
     ]
    },
    {
     "data": {
      "text/plain": [
       "[<matplotlib.lines.Line2D at 0x119f0af50>]"
      ]
     },
     "execution_count": 21,
     "metadata": {},
     "output_type": "execute_result"
    },
    {
     "data": {
      "image/png": "[encoded data removed]",
      "text/plain": [
       "<matplotlib.figure.Figure at 0x11848f050>"
      ]
     },
     "metadata": {},
     "output_type": "display_data"
    }
   ],
   "source": [
    "#Show the results (similar code as the graphs above)\n",
    "%pylab inline\n",
    "\n",
    "fig = plt.figure(1, figsize(12,9))\n",
    "ax = fig.add_subplot(111, axisbg = \"#e6e6e6\")\n",
    "\n",
    "plt.ylim(0,80)\n",
    "\n",
    "x = np.arange(2)\n",
    "x_label = ['Male', 'Female']\n",
    "plt.xticks(x, x_label, fontsize=15)\n",
    "\n",
    "y = perc_surv_sex\n",
    "plt.yticks(range(0,85,5), fontsize=15)\n",
    "\n",
    "plt.xlabel(\"Passenger Sex\", fontsize=15)\n",
    "plt.ylabel(\"Survived (%)\", fontsize=15)\n",
    "plt.title(\"Percentage of Passengers that Survived, Grouped by Sex\", fontsize=15)\n",
    "\n",
    "#reading markers\n",
    "for ay in range(0,85,5):\n",
    "    plt.plot(range(0,2), [ay]*len(range(0,2)),\"--\",color='black',lw=0.5)\n",
    "\n",
    "ax.plot(x,perc_surv_sex,\"-\", color = 'red')"
   ]
  },
  {
   "cell_type": "markdown",
   "metadata": {
    "collapsed": true
   },
   "source": [
    "<p>The graph above shows that around 3.5 times more females survived the Titanic incident than males in this sample. Statistical conclusions cannot be drawn from only this number because it is from a sample of 891 out of 2224. Further analysis will be conducted to determine if this was the case for the population.</p>"
   ]
  },
  {
   "cell_type": "markdown",
   "metadata": {
    "collapsed": true
   },
   "source": [
    "<p>The next investigation is survival rate based on passenger class and whether class was a factor in determining survivors.</p>"
   ]
  },
  {
   "cell_type": "code",
   "execution_count": 22,
   "metadata": {
    "collapsed": false
   },
   "outputs": [
    {
     "name": "stdout",
     "output_type": "stream",
     "text": [
      "[ 216.  184.  491.]\n",
      "[ 136.   87.  119.]\n"
     ]
    }
   ],
   "source": [
    "tot_pass_class = np.zeros(3)\n",
    "tot_surv_class = np.zeros(3)\n",
    "\n",
    "for j in range(0,3):\n",
    "    tot_pass_class[j] = titanic[titanic.Pclass == j+1]['Name'].count()\n",
    "    tot_surv_class[j] = titanic[(titanic.Pclass == j+1) & (titanic.Survived == 1)]['Name'].count()\n",
    "\n",
    "print tot_pass_class\n",
    "print tot_surv_class"
   ]
  },
  {
   "cell_type": "code",
   "execution_count": 23,
   "metadata": {
    "collapsed": false
   },
   "outputs": [
    {
     "name": "stdout",
     "output_type": "stream",
     "text": [
      "Total passengers:  891.0\n",
      "\n",
      "Total survivors:  342.0\n"
     ]
    }
   ],
   "source": [
    "#check if total passengers and survivors matches the numbers previously found\n",
    "print \"Total passengers: \",tot_pass_class.sum()\n",
    "print ''\n",
    "print \"Total survivors: \",tot_surv_class.sum()"
   ]
  },
  {
   "cell_type": "code",
   "execution_count": 24,
   "metadata": {
    "collapsed": false
   },
   "outputs": [
    {
     "name": "stdout",
     "output_type": "stream",
     "text": [
      "[ 63.  47.  24.]\n"
     ]
    }
   ],
   "source": [
    "perc_surv_class = (tot_surv_class/tot_pass_class)*100\n",
    "print np.around(perc_surv_class, decimals =0)#Round the number to the nearest integer"
   ]
  },
  {
   "cell_type": "code",
   "execution_count": 25,
   "metadata": {
    "collapsed": false
   },
   "outputs": [
    {
     "name": "stdout",
     "output_type": "stream",
     "text": [
      "Populating the interactive namespace from numpy and matplotlib\n"
     ]
    },
    {
     "data": {
      "text/plain": [
       "<Container object of 3 artists>"
      ]
     },
     "execution_count": 25,
     "metadata": {},
     "output_type": "execute_result"
    },
    {
     "data": {
      "image/png": "[encoded data removed]",
      "text/plain": [
       "<matplotlib.figure.Figure at 0x119d57750>"
      ]
     },
     "metadata": {},
     "output_type": "display_data"
    }
   ],
   "source": [
    "%pylab inline\n",
    "\n",
    "fig = plt.figure(1, figsize=(12,9))\n",
    "ax = fig.add_subplot(111, axisbg = \"white\")\n",
    "\n",
    "plt.ylim(0,65)\n",
    "\n",
    "plt.xticks(range(1,4),fontsize=15)\n",
    "plt.yticks(range(0,70,5), fontsize=15)\n",
    "\n",
    "plt.title(\"Percentage of Surviving Passengers by Class\",fontsize=15)\n",
    "plt.xlabel(\"Passenger Class\", fontsize=15)\n",
    "plt.ylabel('Survived (%)', fontsize=15)\n",
    "\n",
    "for ay in range(0,70,10):\n",
    "    plt.plot(range(0,5), [ay]*len(range(0,5)),'--',color='black', lw=0.6)\n",
    "\n",
    "ax.bar(range(1,4), perc_surv_class, width = 1, align = 'center', color = \"#ffff00\", edgecolor = \"red\", lw = 2)"
   ]
  },
  {
   "cell_type": "markdown",
   "metadata": {},
   "source": [
    "<p>The above figure displays that passengers in higher classes had an approximately 20% higher survival rate than passengers in classes immediately below them starting at 24% survival rate.\n",
    "</p>"
   ]
  },
  {
   "cell_type": "markdown",
   "metadata": {},
   "source": [
    "<p>The last factor explored which may contribute to survival is whether or not the passengers were travelling with immediate family members including parents, spouses, siblings, and children.</p>"
   ]
  },
  {
   "cell_type": "code",
   "execution_count": 26,
   "metadata": {
    "collapsed": true
   },
   "outputs": [],
   "source": [
    "#same process as for the above 3 factors investigated\n",
    "tot_pass_fam = np.zeros(2)\n",
    "tot_surv_fam = np.zeros(2)\n",
    "\n",
    "for i in range(0,2):\n",
    "    tot_pass_fam[i] = titanic[titanic.With_Family == i]['Name'].count()\n",
    "    tot_surv_fam[i] = titanic[(titanic.With_Family == i) & (titanic.Survived == 1)]['Name'].count()"
   ]
  },
  {
   "cell_type": "code",
   "execution_count": 27,
   "metadata": {
    "collapsed": false
   },
   "outputs": [
    {
     "name": "stdout",
     "output_type": "stream",
     "text": [
      "Total passengers:  891.0\n",
      "\n",
      "Total survivors:  342.0\n"
     ]
    }
   ],
   "source": [
    "#check for consistency in number of total passengers and survivors\n",
    "print \"Total passengers: \",tot_pass_fam.sum()\n",
    "print \"\"\n",
    "print \"Total survivors: \",tot_surv_fam.sum()"
   ]
  },
  {
   "cell_type": "code",
   "execution_count": 28,
   "metadata": {
    "collapsed": false
   },
   "outputs": [
    {
     "name": "stdout",
     "output_type": "stream",
     "text": [
      "[ 30.  51.]\n"
     ]
    }
   ],
   "source": [
    "perc_surv_fam = (tot_surv_fam/tot_pass_fam)*100\n",
    "print np.around(perc_surv_fam, decimals=0)"
   ]
  },
  {
   "cell_type": "code",
   "execution_count": 29,
   "metadata": {
    "collapsed": false
   },
   "outputs": [
    {
     "name": "stdout",
     "output_type": "stream",
     "text": [
      "Populating the interactive namespace from numpy and matplotlib\n"
     ]
    },
    {
     "data": {
      "text/plain": [
       "[<matplotlib.lines.Line2D at 0x11246a550>]"
      ]
     },
     "execution_count": 29,
     "metadata": {},
     "output_type": "execute_result"
    },
    {
     "data": {
      "image/png": "[encoded data removed]",
      "text/plain": [
       "<matplotlib.figure.Figure at 0x111fbd290>"
      ]
     },
     "metadata": {},
     "output_type": "display_data"
    }
   ],
   "source": [
    "%pylab inline\n",
    "\n",
    "fig = plt.figure(1, figsize(12,9))\n",
    "ax = fig.add_subplot(111, axisbg = \"#e6e6e6\")\n",
    "\n",
    "plt.ylim(0,55)\n",
    "\n",
    "plt.xticks(range(0,2), ['Without Family', 'With Family'], fontsize=15)\n",
    "plt.yticks(range(0,60,10), fontsize=15)\n",
    "\n",
    "plt.title('Percentage of Surviving Passengers, Grouped by Families', fontsize=15)\n",
    "plt.xlabel('Travel Status',fontsize=15)\n",
    "plt.ylabel('Survivors (%)', fontsize=15)\n",
    "\n",
    "ax.xaxis.labelpad = 20\n",
    "\n",
    "for ay in range(0,55,10):\n",
    "    plt.plot(range(0,2), [ay]*len(range(0,2)),\"--\", color='black',lw=0.5)\n",
    "\n",
    "ax.plot(range(0,2), perc_surv_fam, color='red')"
   ]
  },
  {
   "cell_type": "markdown",
   "metadata": {},
   "source": [
    "<p>The final factor under investigation shows that half of the passengers travelling with 1 or more immediate family member(s) survived while only a third of passengers travelling without their family members survived. Again, this result does not imply that travelling with family caused higher survival rates, it is only an observation in this particular sample of Titanic passengers.</p>\n",
    "***"
   ]
  },
  {
   "cell_type": "markdown",
   "metadata": {},
   "source": [
    "<p> The two most interesting survival factors, by percentage, that I found were passenger sex and age groups. I did not expect such a large difference in survival percentage between males and females and almost uniform survival rates between ages 9 to 62. I will further investigate these two factors by determining the number of survivors of each sex within their age group. Same age ranges will be used as above.</p>"
   ]
  },
  {
   "cell_type": "code",
   "execution_count": 30,
   "metadata": {
    "collapsed": false
   },
   "outputs": [],
   "source": [
    "#Set up a dataframe to store the number of total passengers and survivors by gender and age group\n",
    "data = np.zeros((9,2))\n",
    "index = [\"0 - 8\", \"9 - 17\", \"18 - 26\", \"27 - 35\", \"36 - 44\",\"45-53\",\"54-62\", \"63-71\", \"72-80\"]\n",
    "column = ['Male', \"Female\"]\n",
    "\n",
    "#Collect information of all passengers sorted by gender and age group\n",
    "for i in range(0,9):\n",
    "    for j in range(0,2):\n",
    "        data[i,j] = titanic[(titanic.Filled_Age >=i*9) & (titanic.Filled_Age < (i*9)+9) & (titanic.Gender == j)]\\\n",
    "        ['Name'].count()"
   ]
  },
  {
   "cell_type": "code",
   "execution_count": 31,
   "metadata": {
    "collapsed": false
   },
   "outputs": [],
   "source": [
    "#Collect information of all survivors sorted by gender and age group\n",
    "data1 = np.zeros((9,2))\n",
    "\n",
    "for i in range(0,9):\n",
    "    for j in range(0,2):\n",
    "        data1[i,j] = titanic[(titanic.Filled_Age >=i*9) & (titanic.Filled_Age < (i*9)+9) & (titanic.Gender == j)\\\n",
    "                           & (titanic.Survived == 1)]['Name'].count()"
   ]
  },
  {
   "cell_type": "code",
   "execution_count": 32,
   "metadata": {
    "collapsed": false
   },
   "outputs": [
    {
     "data": {
      "text/html": [
       "<div>\n",
       "<table border=\"1\" class=\"dataframe\">\n",
       "  <thead>\n",
       "    <tr style=\"text-align: right;\">\n",
       "      <th></th>\n",
       "      <th>Male</th>\n",
       "      <th>Female</th>\n",
       "    </tr>\n",
       "  </thead>\n",
       "  <tbody>\n",
       "    <tr>\n",
       "      <th>0 - 8</th>\n",
       "      <td>60.714286</td>\n",
       "      <td>73.076923</td>\n",
       "    </tr>\n",
       "    <tr>\n",
       "      <th>9 - 17</th>\n",
       "      <td>20.000000</td>\n",
       "      <td>65.517241</td>\n",
       "    </tr>\n",
       "    <tr>\n",
       "      <th>18 - 26</th>\n",
       "      <td>13.245033</td>\n",
       "      <td>67.543860</td>\n",
       "    </tr>\n",
       "    <tr>\n",
       "      <th>27 - 35</th>\n",
       "      <td>17.241379</td>\n",
       "      <td>84.722222</td>\n",
       "    </tr>\n",
       "    <tr>\n",
       "      <th>36 - 44</th>\n",
       "      <td>18.461538</td>\n",
       "      <td>75.675676</td>\n",
       "    </tr>\n",
       "    <tr>\n",
       "      <th>45-53</th>\n",
       "      <td>23.809524</td>\n",
       "      <td>73.913043</td>\n",
       "    </tr>\n",
       "    <tr>\n",
       "      <th>54-62</th>\n",
       "      <td>12.500000</td>\n",
       "      <td>90.909091</td>\n",
       "    </tr>\n",
       "    <tr>\n",
       "      <th>63-71</th>\n",
       "      <td>0.000000</td>\n",
       "      <td>100.000000</td>\n",
       "    </tr>\n",
       "    <tr>\n",
       "      <th>72-80</th>\n",
       "      <td>50.000000</td>\n",
       "      <td>0.000000</td>\n",
       "    </tr>\n",
       "  </tbody>\n",
       "</table>\n",
       "</div>"
      ],
      "text/plain": [
       "              Male      Female\n",
       "0 - 8    60.714286   73.076923\n",
       "9 - 17   20.000000   65.517241\n",
       "18 - 26  13.245033   67.543860\n",
       "27 - 35  17.241379   84.722222\n",
       "36 - 44  18.461538   75.675676\n",
       "45-53    23.809524   73.913043\n",
       "54-62    12.500000   90.909091\n",
       "63-71     0.000000  100.000000\n",
       "72-80    50.000000    0.000000"
      ]
     },
     "execution_count": 32,
     "metadata": {},
     "output_type": "execute_result"
    }
   ],
   "source": [
    "#Determine survival percentage sorted by gender and age group\n",
    "data2 = (data1/data)*100\n",
    "\n",
    "#Store survival percentage in a dataframe to accurately display the information\n",
    "perc_surv_age_sex = pd.DataFrame(data2,index=index, columns = column).fillna(0)\n",
    "perc_surv_age_sex"
   ]
  },
  {
   "cell_type": "code",
   "execution_count": 33,
   "metadata": {
    "collapsed": false
   },
   "outputs": [
    {
     "name": "stdout",
     "output_type": "stream",
     "text": [
      "Populating the interactive namespace from numpy and matplotlib\n"
     ]
    },
    {
     "data": {
      "text/plain": [
       "<matplotlib.text.Text at 0x113c60550>"
      ]
     },
     "execution_count": 33,
     "metadata": {},
     "output_type": "execute_result"
    },
    {
     "data": {
      "image/png": "[encoded data removed]",
      "text/plain": [
       "<matplotlib.figure.Figure at 0x103b4ebd0>"
      ]
     },
     "metadata": {},
     "output_type": "display_data"
    }
   ],
   "source": [
    "#show this information in a heatmap to determine the stronger survival factor between age and gender\n",
    "#darker color represents a higher survival rate\n",
    "%pylab inline\n",
    "\n",
    "fig = plt.figure(2, figsize(12,9))\n",
    "ax = fig.add_subplot(111)\n",
    "#using Seaborn function to generate heatmap\n",
    "ax = sns.heatmap(perc_surv_age_sex, cmap=\"Blues\", ax=ax)\n",
    "ax.tick_params(labelsize=15)#change all label sizes\n",
    "plt.yticks(rotation=0)#display y-axis labels horizontally instead of the default vertical\n",
    "ax.set_title(\"Passenger Survival Percentage by Gender and Age Group\",size=15)#set heatmap title"
   ]
  },
  {
   "cell_type": "markdown",
   "metadata": {},
   "source": [
    "<p>The figure above shows that gender contributed more towards survival than age with at least 65% of females surviving in every age group while only one male age group had a survival rate of more than 50%. This also explains that passengers aged 0-8 survived at a higher rate than other age groups because the male and female survival rate are approximately equal for only this age group.</p>\n",
    "<hr>"
   ]
  },
  {
   "cell_type": "markdown",
   "metadata": {},
   "source": [
    "<p>The second investigation is the town with the wealthiest people. This will be deducted by the proportion of upper class passengers from each town. Then an independent t-test on the fair paid by passengers from each town will be conducted to determine if this small sample reflects the entire population of the towns.</p>\n",
    "***"
   ]
  },
  {
   "cell_type": "code",
   "execution_count": 34,
   "metadata": {
    "collapsed": false
   },
   "outputs": [
    {
     "name": "stdout",
     "output_type": "stream",
     "text": [
      "Embarked\n",
      "C    168\n",
      "Q     77\n",
      "S    646\n",
      "Name: Name, dtype: int64\n"
     ]
    },
    {
     "data": {
      "text/html": [
       "<div>\n",
       "<table border=\"1\" class=\"dataframe\">\n",
       "  <thead>\n",
       "    <tr style=\"text-align: right;\">\n",
       "      <th></th>\n",
       "      <th></th>\n",
       "      <th>PassengerId</th>\n",
       "      <th>Survived</th>\n",
       "      <th>Name</th>\n",
       "      <th>Sex</th>\n",
       "      <th>Age</th>\n",
       "      <th>SibSp</th>\n",
       "      <th>Parch</th>\n",
       "      <th>Ticket</th>\n",
       "      <th>Fare</th>\n",
       "      <th>Cabin</th>\n",
       "      <th>With_Family</th>\n",
       "      <th>Gender</th>\n",
       "      <th>Filled_Age</th>\n",
       "    </tr>\n",
       "    <tr>\n",
       "      <th>Embarked</th>\n",
       "      <th>Pclass</th>\n",
       "      <th></th>\n",
       "      <th></th>\n",
       "      <th></th>\n",
       "      <th></th>\n",
       "      <th></th>\n",
       "      <th></th>\n",
       "      <th></th>\n",
       "      <th></th>\n",
       "      <th></th>\n",
       "      <th></th>\n",
       "      <th></th>\n",
       "      <th></th>\n",
       "      <th></th>\n",
       "    </tr>\n",
       "  </thead>\n",
       "  <tbody>\n",
       "    <tr>\n",
       "      <th rowspan=\"3\" valign=\"top\">C</th>\n",
       "      <th>1</th>\n",
       "      <td>85</td>\n",
       "      <td>85</td>\n",
       "      <td>85</td>\n",
       "      <td>85</td>\n",
       "      <td>74</td>\n",
       "      <td>85</td>\n",
       "      <td>85</td>\n",
       "      <td>85</td>\n",
       "      <td>85</td>\n",
       "      <td>66</td>\n",
       "      <td>85</td>\n",
       "      <td>85</td>\n",
       "      <td>85</td>\n",
       "    </tr>\n",
       "    <tr>\n",
       "      <th>2</th>\n",
       "      <td>17</td>\n",
       "      <td>17</td>\n",
       "      <td>17</td>\n",
       "      <td>17</td>\n",
       "      <td>15</td>\n",
       "      <td>17</td>\n",
       "      <td>17</td>\n",
       "      <td>17</td>\n",
       "      <td>17</td>\n",
       "      <td>2</td>\n",
       "      <td>17</td>\n",
       "      <td>17</td>\n",
       "      <td>17</td>\n",
       "    </tr>\n",
       "    <tr>\n",
       "      <th>3</th>\n",
       "      <td>66</td>\n",
       "      <td>66</td>\n",
       "      <td>66</td>\n",
       "      <td>66</td>\n",
       "      <td>41</td>\n",
       "      <td>66</td>\n",
       "      <td>66</td>\n",
       "      <td>66</td>\n",
       "      <td>66</td>\n",
       "      <td>1</td>\n",
       "      <td>66</td>\n",
       "      <td>66</td>\n",
       "      <td>66</td>\n",
       "    </tr>\n",
       "    <tr>\n",
       "      <th rowspan=\"3\" valign=\"top\">Q</th>\n",
       "      <th>1</th>\n",
       "      <td>2</td>\n",
       "      <td>2</td>\n",
       "      <td>2</td>\n",
       "      <td>2</td>\n",
       "      <td>2</td>\n",
       "      <td>2</td>\n",
       "      <td>2</td>\n",
       "      <td>2</td>\n",
       "      <td>2</td>\n",
       "      <td>2</td>\n",
       "      <td>2</td>\n",
       "      <td>2</td>\n",
       "      <td>2</td>\n",
       "    </tr>\n",
       "    <tr>\n",
       "      <th>2</th>\n",
       "      <td>3</td>\n",
       "      <td>3</td>\n",
       "      <td>3</td>\n",
       "      <td>3</td>\n",
       "      <td>2</td>\n",
       "      <td>3</td>\n",
       "      <td>3</td>\n",
       "      <td>3</td>\n",
       "      <td>3</td>\n",
       "      <td>1</td>\n",
       "      <td>3</td>\n",
       "      <td>3</td>\n",
       "      <td>3</td>\n",
       "    </tr>\n",
       "    <tr>\n",
       "      <th>3</th>\n",
       "      <td>72</td>\n",
       "      <td>72</td>\n",
       "      <td>72</td>\n",
       "      <td>72</td>\n",
       "      <td>24</td>\n",
       "      <td>72</td>\n",
       "      <td>72</td>\n",
       "      <td>72</td>\n",
       "      <td>72</td>\n",
       "      <td>1</td>\n",
       "      <td>72</td>\n",
       "      <td>72</td>\n",
       "      <td>72</td>\n",
       "    </tr>\n",
       "    <tr>\n",
       "      <th rowspan=\"3\" valign=\"top\">S</th>\n",
       "      <th>1</th>\n",
       "      <td>129</td>\n",
       "      <td>129</td>\n",
       "      <td>129</td>\n",
       "      <td>129</td>\n",
       "      <td>110</td>\n",
       "      <td>129</td>\n",
       "      <td>129</td>\n",
       "      <td>129</td>\n",
       "      <td>129</td>\n",
       "      <td>108</td>\n",
       "      <td>129</td>\n",
       "      <td>129</td>\n",
       "      <td>129</td>\n",
       "    </tr>\n",
       "    <tr>\n",
       "      <th>2</th>\n",
       "      <td>164</td>\n",
       "      <td>164</td>\n",
       "      <td>164</td>\n",
       "      <td>164</td>\n",
       "      <td>156</td>\n",
       "      <td>164</td>\n",
       "      <td>164</td>\n",
       "      <td>164</td>\n",
       "      <td>164</td>\n",
       "      <td>13</td>\n",
       "      <td>164</td>\n",
       "      <td>164</td>\n",
       "      <td>164</td>\n",
       "    </tr>\n",
       "    <tr>\n",
       "      <th>3</th>\n",
       "      <td>353</td>\n",
       "      <td>353</td>\n",
       "      <td>353</td>\n",
       "      <td>353</td>\n",
       "      <td>290</td>\n",
       "      <td>353</td>\n",
       "      <td>353</td>\n",
       "      <td>353</td>\n",
       "      <td>353</td>\n",
       "      <td>10</td>\n",
       "      <td>353</td>\n",
       "      <td>353</td>\n",
       "      <td>353</td>\n",
       "    </tr>\n",
       "  </tbody>\n",
       "</table>\n",
       "</div>"
      ],
      "text/plain": [
       "                 PassengerId  Survived  Name  Sex  Age  SibSp  Parch  Ticket  \\\n",
       "Embarked Pclass                                                                \n",
       "C        1                85        85    85   85   74     85     85      85   \n",
       "         2                17        17    17   17   15     17     17      17   \n",
       "         3                66        66    66   66   41     66     66      66   \n",
       "Q        1                 2         2     2    2    2      2      2       2   \n",
       "         2                 3         3     3    3    2      3      3       3   \n",
       "         3                72        72    72   72   24     72     72      72   \n",
       "S        1               129       129   129  129  110    129    129     129   \n",
       "         2               164       164   164  164  156    164    164     164   \n",
       "         3               353       353   353  353  290    353    353     353   \n",
       "\n",
       "                 Fare  Cabin  With_Family  Gender  Filled_Age  \n",
       "Embarked Pclass                                                \n",
       "C        1         85     66           85      85          85  \n",
       "         2         17      2           17      17          17  \n",
       "         3         66      1           66      66          66  \n",
       "Q        1          2      2            2       2           2  \n",
       "         2          3      1            3       3           3  \n",
       "         3         72      1           72      72          72  \n",
       "S        1        129    108          129     129         129  \n",
       "         2        164     13          164     164         164  \n",
       "         3        353     10          353     353         353  "
      ]
     },
     "execution_count": 34,
     "metadata": {},
     "output_type": "execute_result"
    }
   ],
   "source": [
    "#total number of passengers from each port\n",
    "tot_embarked = np.zeros((3,1))\n",
    "tot_embarked = titanic.groupby('Embarked')['Name'].count()\n",
    "print tot_embarked\n",
    "\n",
    "#Number of passengers from each port and in each class\n",
    "titanic.groupby(['Embarked','Pclass']).count()"
   ]
  },
  {
   "cell_type": "code",
   "execution_count": 35,
   "metadata": {
    "collapsed": false
   },
   "outputs": [
    {
     "data": {
      "text/html": [
       "<div>\n",
       "<table border=\"1\" class=\"dataframe\">\n",
       "  <thead>\n",
       "    <tr style=\"text-align: right;\">\n",
       "      <th></th>\n",
       "      <th>Passengers</th>\n",
       "    </tr>\n",
       "  </thead>\n",
       "  <tbody>\n",
       "    <tr>\n",
       "      <th>C</th>\n",
       "      <td>85</td>\n",
       "    </tr>\n",
       "    <tr>\n",
       "      <th>Q</th>\n",
       "      <td>2</td>\n",
       "    </tr>\n",
       "    <tr>\n",
       "      <th>S</th>\n",
       "      <td>129</td>\n",
       "    </tr>\n",
       "  </tbody>\n",
       "</table>\n",
       "</div>"
      ],
      "text/plain": [
       "   Passengers\n",
       "C          85\n",
       "Q           2\n",
       "S         129"
      ]
     },
     "execution_count": 35,
     "metadata": {},
     "output_type": "execute_result"
    }
   ],
   "source": [
    "#manually wrote a dataframe of all people in first class from each location for practice.\n",
    "first_class_embarked = pd.DataFrame([85,2,129],index=['C','Q','S'], columns=['Passengers'])\n",
    "first_class_embarked"
   ]
  },
  {
   "cell_type": "code",
   "execution_count": 36,
   "metadata": {
    "collapsed": false
   },
   "outputs": [
    {
     "data": {
      "text/html": [
       "<div>\n",
       "<table border=\"1\" class=\"dataframe\">\n",
       "  <thead>\n",
       "    <tr style=\"text-align: right;\">\n",
       "      <th></th>\n",
       "      <th>Passengers</th>\n",
       "    </tr>\n",
       "  </thead>\n",
       "  <tbody>\n",
       "    <tr>\n",
       "      <th>C</th>\n",
       "      <td>0.505952</td>\n",
       "    </tr>\n",
       "    <tr>\n",
       "      <th>Q</th>\n",
       "      <td>0.025974</td>\n",
       "    </tr>\n",
       "    <tr>\n",
       "      <th>S</th>\n",
       "      <td>0.199690</td>\n",
       "    </tr>\n",
       "  </tbody>\n",
       "</table>\n",
       "</div>"
      ],
      "text/plain": [
       "   Passengers\n",
       "C    0.505952\n",
       "Q    0.025974\n",
       "S    0.199690"
      ]
     },
     "execution_count": 36,
     "metadata": {},
     "output_type": "execute_result"
    }
   ],
   "source": [
    "#percentage of passengers in first class from each location\n",
    "perc_pass_first_class = first_class_embarked.div(tot_embarked,axis=0)\n",
    "perc_pass_first_class"
   ]
  },
  {
   "cell_type": "markdown",
   "metadata": {
    "collapsed": true
   },
   "source": [
    "The table above shows that more than half of the passengers that embarked from \"C\" - Cherbourg, France - had first class tickets. However, this is not enough information to conclude that the residents of Cherbourg were more wealthy than the residents of Queenstown, Ireland or Southampton, UK."
   ]
  },
  {
   "cell_type": "markdown",
   "metadata": {},
   "source": [
    "<span style=\"font-family:'Palatino Linotype'; font-size:25px; text-decoration:underline;\">Conclusions</span>"
   ]
  },
  {
   "cell_type": "markdown",
   "metadata": {},
   "source": [
    "<p>This investigation revealed that the most contributing survival factor for the 891 passengers and crew members in this sample size was gender. More than 75% of the females in this data sample survived while only 19% of the males survived. Age also played a role in survival because passengers aged 0 to 8 had a higher survival rate than other age groups, although this was only significant for men. Passenger class also played a big role in survival with first class passengers survival rate at 64%, medium class survival rate at 47%, and lower class survival rate at 24% in the sample. Finally, passengers travelling with family had a 50% chance of survival compared to passengers travelling without family who had a 30% chance of survival, in this sample.</p>\n",
    "\n",
    "<p>\n",
    "The investigation also found that the port with the wealthiest passengers in this sample was Cherbourg, France with 50% of the passengers travelling in first class. This rate of passengers in first class is much higher than the other two ports.\n",
    "</p>"
   ]
  },
  {
   "cell_type": "markdown",
   "metadata": {},
   "source": [
    "<p>Note: These statistics are computed for the sample only and do not reflect the survival rates of the entire population of passengers on the RMS Titanic.</p>\n",
    "\n",
    "<p>Possible sources of error:\n",
    "<ul>\n",
    "    <li> The 177 records that were assigned median ages could skew the survival rates of those age groups if misappropriately assigned.</li>\n",
    "    <li> The residents of Cherbough may only have had access to mainly first class tickets and therefore only the wealthiest residents had an opportunity to travel in the Titanic's maiden voyage.</li>\n",
    "</ul>"
   ]
  },
  {
   "cell_type": "markdown",
   "metadata": {},
   "source": [
    "<span style=\"font-family:'Palatino Linotype'; font-size:25px; text-decoration:underline;\">References</span>"
   ]
  },
  {
   "cell_type": "markdown",
   "metadata": {},
   "source": [
    "<ul>\n",
    "    <li><a href=\"http://www.udacity.com\">Udacity: Intro to Data Science</a></li>\n",
    "    <li><a href=\"https://stanford.edu/~mwaskom/software/seaborn/generated/seaborn.heatmap.html\">Heatmaps, Stanford Edu</a></li>\n",
    "    <li><a href=\"http://www.stackoverflow.com\">Stack Overflow</a></li>\n",
    "    <li><a href=\"http://www.randalolson.com/2014/06/28/how-to-make-beautiful-data-visualizations-in-python-with-matplotlib/\">Plot Customizations</a></li>\n",
    "</ul>"
   ]
  }
 ],
 "metadata": {
  "kernelspec": {
   "display_name": "Python 2",
   "language": "python",
   "name": "python2"
  },
  "language_info": {
   "codemirror_mode": {
    "name": "ipython",
    "version": 2
   },
   "file_extension": ".py",
   "mimetype": "text/x-python",
   "name": "python",
   "nbconvert_exporter": "python",
   "pygments_lexer": "ipython2",
   "version": "2.7.12"
  }
 },
 "nbformat": 4,
 "nbformat_minor": 0
}
